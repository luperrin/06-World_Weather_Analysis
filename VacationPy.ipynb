{
 "cells": [
  {
   "cell_type": "code",
   "execution_count": 17,
   "metadata": {},
   "outputs": [],
   "source": [
    "# Import the dependencies.\n",
    "import pandas as pd\n",
    "import gmaps\n",
    "import requests\n",
    "# Import the API key.\n",
    "from config import g_key"
   ]
  },
  {
   "cell_type": "code",
   "execution_count": 18,
   "metadata": {
    "pycharm": {
     "name": "#%%\n"
    }
   },
   "outputs": [
    {
     "data": {
      "text/plain": "   City_ID          City Country                 Date      Lat       Lng  \\\n0        0        Atuona      PF  2022-03-07 03:28:35  -9.8000 -139.0333   \n1        1  Puerto Ayora      EC  2022-03-07 03:28:36  -0.7393  -90.3518   \n2        2           Bac      RS  2022-03-07 03:28:36  45.3919   19.2367   \n3        3          Sari      IR  2022-03-07 03:28:37  36.5633   53.0601   \n4        4       Talnakh      RU  2022-03-07 03:28:37  69.4865   88.3972   \n\n   Max Temp  Humidity  Cloudiness  Wind Speed  \n0     78.67        78          33       12.41  \n1     76.64        84          81        3.78  \n2     33.93        99         100        4.09  \n3     47.79        93         100       13.80  \n4    -25.83        96          24        2.39  ",
      "text/html": "<div>\n<style scoped>\n    .dataframe tbody tr th:only-of-type {\n        vertical-align: middle;\n    }\n\n    .dataframe tbody tr th {\n        vertical-align: top;\n    }\n\n    .dataframe thead th {\n        text-align: right;\n    }\n</style>\n<table border=\"1\" class=\"dataframe\">\n  <thead>\n    <tr style=\"text-align: right;\">\n      <th></th>\n      <th>City_ID</th>\n      <th>City</th>\n      <th>Country</th>\n      <th>Date</th>\n      <th>Lat</th>\n      <th>Lng</th>\n      <th>Max Temp</th>\n      <th>Humidity</th>\n      <th>Cloudiness</th>\n      <th>Wind Speed</th>\n    </tr>\n  </thead>\n  <tbody>\n    <tr>\n      <th>0</th>\n      <td>0</td>\n      <td>Atuona</td>\n      <td>PF</td>\n      <td>2022-03-07 03:28:35</td>\n      <td>-9.8000</td>\n      <td>-139.0333</td>\n      <td>78.67</td>\n      <td>78</td>\n      <td>33</td>\n      <td>12.41</td>\n    </tr>\n    <tr>\n      <th>1</th>\n      <td>1</td>\n      <td>Puerto Ayora</td>\n      <td>EC</td>\n      <td>2022-03-07 03:28:36</td>\n      <td>-0.7393</td>\n      <td>-90.3518</td>\n      <td>76.64</td>\n      <td>84</td>\n      <td>81</td>\n      <td>3.78</td>\n    </tr>\n    <tr>\n      <th>2</th>\n      <td>2</td>\n      <td>Bac</td>\n      <td>RS</td>\n      <td>2022-03-07 03:28:36</td>\n      <td>45.3919</td>\n      <td>19.2367</td>\n      <td>33.93</td>\n      <td>99</td>\n      <td>100</td>\n      <td>4.09</td>\n    </tr>\n    <tr>\n      <th>3</th>\n      <td>3</td>\n      <td>Sari</td>\n      <td>IR</td>\n      <td>2022-03-07 03:28:37</td>\n      <td>36.5633</td>\n      <td>53.0601</td>\n      <td>47.79</td>\n      <td>93</td>\n      <td>100</td>\n      <td>13.80</td>\n    </tr>\n    <tr>\n      <th>4</th>\n      <td>4</td>\n      <td>Talnakh</td>\n      <td>RU</td>\n      <td>2022-03-07 03:28:37</td>\n      <td>69.4865</td>\n      <td>88.3972</td>\n      <td>-25.83</td>\n      <td>96</td>\n      <td>24</td>\n      <td>2.39</td>\n    </tr>\n  </tbody>\n</table>\n</div>"
     },
     "execution_count": 18,
     "metadata": {},
     "output_type": "execute_result"
    }
   ],
   "source": [
    "# Store the CSV you saved created in part one into a DataFrame.\n",
    "city_data_df = pd.read_csv(\"weather_data/cities.csv\")\n",
    "city_data_df.head()"
   ]
  },
  {
   "cell_type": "code",
   "execution_count": 19,
   "metadata": {},
   "outputs": [
    {
     "data": {
      "text/plain": "City_ID       590\nCity          590\nCountry       590\nDate          590\nLat           590\nLng           590\nMax Temp      590\nHumidity      590\nCloudiness    590\nWind Speed    590\ndtype: int64"
     },
     "execution_count": 19,
     "metadata": {},
     "output_type": "execute_result"
    }
   ],
   "source": [
    "city_data_df = city_data_df.dropna()\n",
    "city_data_df.count()"
   ]
  },
  {
   "cell_type": "code",
   "execution_count": 20,
   "metadata": {
    "pycharm": {
     "name": "#%%\n"
    }
   },
   "outputs": [],
   "source": [
    "# Configure gmaps to use your Google API key.\n",
    "gmaps.configure(api_key=g_key)"
   ]
  },
  {
   "cell_type": "code",
   "execution_count": 20,
   "metadata": {},
   "outputs": [],
   "source": []
  },
  {
   "cell_type": "code",
   "execution_count": 21,
   "metadata": {
    "pycharm": {
     "name": "#%%\n"
    }
   },
   "outputs": [
    {
     "data": {
      "text/plain": "Figure(layout=FigureLayout(height='420px'))",
      "application/vnd.jupyter.widget-view+json": {
       "version_major": 2,
       "version_minor": 0,
       "model_id": "f449ef2e892b4992892c47865d8b1000"
      }
     },
     "metadata": {},
     "output_type": "display_data"
    }
   ],
   "source": [
    "# Heatmap of temperature\n",
    "locations = city_data_df[[\"Lat\", \"Lng\"]]\n",
    "# Get the maximum temperature.\n",
    "max_temp = city_data_df[\"Max Temp\"]\n",
    "temps = [max(temp, 0) for temp in max_temp]\n",
    "# Assign the figure variable.\n",
    "fig = gmaps.figure(center=(30.0, 31.0), zoom_level=1.5)\n",
    "# Assign the heatmap variable.\n",
    "heat_layer = gmaps.heatmap_layer(locations, weights=[max(temp, 0) for temp in max_temp], dissipating=False, \n",
    "                                max_intensity=300, point_radius=2)\n",
    "# Add the heatmap layer.\n",
    "fig.add_layer(heat_layer)\n",
    "# Call the figure to plot the data.\n",
    "fig"
   ]
  },
  {
   "cell_type": "code",
   "execution_count": 21,
   "metadata": {
    "pycharm": {
     "name": "#%%\n"
    }
   },
   "outputs": [],
   "source": []
  },
  {
   "cell_type": "code",
   "execution_count": 22,
   "metadata": {
    "pycharm": {
     "name": "#%%\n"
    }
   },
   "outputs": [
    {
     "data": {
      "text/plain": "Figure(layout=FigureLayout(height='420px'))",
      "application/vnd.jupyter.widget-view+json": {
       "version_major": 2,
       "version_minor": 0,
       "model_id": "9a65bc767c8844dc835d00cd4be12962"
      }
     },
     "metadata": {},
     "output_type": "display_data"
    }
   ],
   "source": [
    "# Heatmap of percent humidity\n",
    "locations = city_data_df[[\"Lat\", \"Lng\"]]\n",
    "humidity = city_data_df[\"Humidity\"]\n",
    "fig = gmaps.figure(center=(30.0, 31.0), zoom_level=1.5)\n",
    "heat_layer = gmaps.heatmap_layer(locations, weights=humidity, dissipating=False, max_intensity=300, point_radius=4)\n",
    "\n",
    "fig.add_layer(heat_layer)\n",
    "# Call the figure to plot the data.\n",
    "fig"
   ]
  },
  {
   "cell_type": "code",
   "execution_count": 23,
   "metadata": {},
   "outputs": [
    {
     "data": {
      "text/plain": "Figure(layout=FigureLayout(height='420px'))",
      "application/vnd.jupyter.widget-view+json": {
       "version_major": 2,
       "version_minor": 0,
       "model_id": "a69a4c424a7b4fa2836a43930b5e6079"
      }
     },
     "metadata": {},
     "output_type": "display_data"
    }
   ],
   "source": [
    "# Heatmap of percent cloudiness\n",
    "locations = city_data_df[[\"Lat\", \"Lng\"]]\n",
    "clouds = city_data_df[\"Cloudiness\"]\n",
    "fig = gmaps.figure(center=(30.0, 31.0), zoom_level=1.5)\n",
    "heat_layer = gmaps.heatmap_layer(locations, weights=clouds,\n",
    "dissipating=False, max_intensity=300, point_radius=4)\n",
    "\n",
    "fig.add_layer(heat_layer)\n",
    "# Call the figure to plot the data.\n",
    "\n",
    "fig"
   ]
  },
  {
   "cell_type": "code",
   "execution_count": 24,
   "metadata": {},
   "outputs": [
    {
     "data": {
      "text/plain": "Figure(layout=FigureLayout(height='420px'))",
      "application/vnd.jupyter.widget-view+json": {
       "version_major": 2,
       "version_minor": 0,
       "model_id": "698c12c5f81e4131a529d869c8bde8b1"
      }
     },
     "metadata": {},
     "output_type": "display_data"
    }
   ],
   "source": [
    "# Heatmap of Wind Speed\n",
    "locations = city_data_df[[\"Lat\", \"Lng\"]]\n",
    "wind = city_data_df[\"Wind Speed\"]\n",
    "fig = gmaps.figure(center=(30.0, 31.0), zoom_level=1.5)\n",
    "heat_layer = gmaps.heatmap_layer(locations, weights=wind,\n",
    "dissipating=False, max_intensity=300, point_radius=4)\n",
    "\n",
    "fig.add_layer(heat_layer)\n",
    "# Call the figure to plot the data.\n",
    "\n",
    "fig"
   ]
  },
  {
   "cell_type": "code",
   "execution_count": 25,
   "metadata": {},
   "outputs": [],
   "source": [
    "# Ask the customer to add a minimum and maximum temperature value.\n",
    "min_temp = float(input(\"What is the minimum temperature you would like for your trip? \"))\n",
    "max_temp = float(input(\"What is the maximum temperature you would like for your trip? \"))"
   ]
  },
  {
   "cell_type": "code",
   "execution_count": 26,
   "metadata": {},
   "outputs": [
    {
     "data": {
      "text/plain": "    City_ID            City Country                 Date      Lat       Lng  \\\n0         0          Atuona      PF  2022-03-07 03:28:35  -9.8000 -139.0333   \n1         1    Puerto Ayora      EC  2022-03-07 03:28:36  -0.7393  -90.3518   \n5         5         Sechura      PE  2022-03-07 03:28:38  -5.5569  -80.8222   \n7         7         Rikitea      PF  2022-03-07 03:28:39 -23.1203 -134.9692   \n9         9  Port Elizabeth      ZA  2022-03-07 03:28:40 -33.9180   25.5701   \n10       10   Mar Del Plata      AR  2022-03-07 03:24:36 -38.0023  -57.5575   \n13       13      Bredasdorp      ZA  2022-03-07 03:28:41 -34.5322   20.0403   \n15       15    San Patricio      US  2022-03-07 03:28:42  28.0170  -97.5169   \n17       17            Mayo      US  2022-03-07 03:28:43  38.8876  -76.5119   \n18       18  Saint-Philippe      RE  2022-03-07 03:28:43 -21.3585   55.7679   \n\n    Max Temp  Humidity  Cloudiness  Wind Speed  \n0      78.67        78          33       12.41  \n1      76.64        84          81        3.78  \n5      75.07        71          95        4.83  \n7      79.45        77         100       17.27  \n9      73.09        88           0        2.30  \n10     68.09        90          75       15.01  \n13     66.27        75          99        6.58  \n15     73.38        93          23       14.45  \n17     73.35        64          75        8.05  \n18     78.39        86         100       15.73  ",
      "text/html": "<div>\n<style scoped>\n    .dataframe tbody tr th:only-of-type {\n        vertical-align: middle;\n    }\n\n    .dataframe tbody tr th {\n        vertical-align: top;\n    }\n\n    .dataframe thead th {\n        text-align: right;\n    }\n</style>\n<table border=\"1\" class=\"dataframe\">\n  <thead>\n    <tr style=\"text-align: right;\">\n      <th></th>\n      <th>City_ID</th>\n      <th>City</th>\n      <th>Country</th>\n      <th>Date</th>\n      <th>Lat</th>\n      <th>Lng</th>\n      <th>Max Temp</th>\n      <th>Humidity</th>\n      <th>Cloudiness</th>\n      <th>Wind Speed</th>\n    </tr>\n  </thead>\n  <tbody>\n    <tr>\n      <th>0</th>\n      <td>0</td>\n      <td>Atuona</td>\n      <td>PF</td>\n      <td>2022-03-07 03:28:35</td>\n      <td>-9.8000</td>\n      <td>-139.0333</td>\n      <td>78.67</td>\n      <td>78</td>\n      <td>33</td>\n      <td>12.41</td>\n    </tr>\n    <tr>\n      <th>1</th>\n      <td>1</td>\n      <td>Puerto Ayora</td>\n      <td>EC</td>\n      <td>2022-03-07 03:28:36</td>\n      <td>-0.7393</td>\n      <td>-90.3518</td>\n      <td>76.64</td>\n      <td>84</td>\n      <td>81</td>\n      <td>3.78</td>\n    </tr>\n    <tr>\n      <th>5</th>\n      <td>5</td>\n      <td>Sechura</td>\n      <td>PE</td>\n      <td>2022-03-07 03:28:38</td>\n      <td>-5.5569</td>\n      <td>-80.8222</td>\n      <td>75.07</td>\n      <td>71</td>\n      <td>95</td>\n      <td>4.83</td>\n    </tr>\n    <tr>\n      <th>7</th>\n      <td>7</td>\n      <td>Rikitea</td>\n      <td>PF</td>\n      <td>2022-03-07 03:28:39</td>\n      <td>-23.1203</td>\n      <td>-134.9692</td>\n      <td>79.45</td>\n      <td>77</td>\n      <td>100</td>\n      <td>17.27</td>\n    </tr>\n    <tr>\n      <th>9</th>\n      <td>9</td>\n      <td>Port Elizabeth</td>\n      <td>ZA</td>\n      <td>2022-03-07 03:28:40</td>\n      <td>-33.9180</td>\n      <td>25.5701</td>\n      <td>73.09</td>\n      <td>88</td>\n      <td>0</td>\n      <td>2.30</td>\n    </tr>\n    <tr>\n      <th>10</th>\n      <td>10</td>\n      <td>Mar Del Plata</td>\n      <td>AR</td>\n      <td>2022-03-07 03:24:36</td>\n      <td>-38.0023</td>\n      <td>-57.5575</td>\n      <td>68.09</td>\n      <td>90</td>\n      <td>75</td>\n      <td>15.01</td>\n    </tr>\n    <tr>\n      <th>13</th>\n      <td>13</td>\n      <td>Bredasdorp</td>\n      <td>ZA</td>\n      <td>2022-03-07 03:28:41</td>\n      <td>-34.5322</td>\n      <td>20.0403</td>\n      <td>66.27</td>\n      <td>75</td>\n      <td>99</td>\n      <td>6.58</td>\n    </tr>\n    <tr>\n      <th>15</th>\n      <td>15</td>\n      <td>San Patricio</td>\n      <td>US</td>\n      <td>2022-03-07 03:28:42</td>\n      <td>28.0170</td>\n      <td>-97.5169</td>\n      <td>73.38</td>\n      <td>93</td>\n      <td>23</td>\n      <td>14.45</td>\n    </tr>\n    <tr>\n      <th>17</th>\n      <td>17</td>\n      <td>Mayo</td>\n      <td>US</td>\n      <td>2022-03-07 03:28:43</td>\n      <td>38.8876</td>\n      <td>-76.5119</td>\n      <td>73.35</td>\n      <td>64</td>\n      <td>75</td>\n      <td>8.05</td>\n    </tr>\n    <tr>\n      <th>18</th>\n      <td>18</td>\n      <td>Saint-Philippe</td>\n      <td>RE</td>\n      <td>2022-03-07 03:28:43</td>\n      <td>-21.3585</td>\n      <td>55.7679</td>\n      <td>78.39</td>\n      <td>86</td>\n      <td>100</td>\n      <td>15.73</td>\n    </tr>\n  </tbody>\n</table>\n</div>"
     },
     "execution_count": 26,
     "metadata": {},
     "output_type": "execute_result"
    }
   ],
   "source": [
    "# Filter the dataset to find the cities that fit the criteria.\n",
    "preferred_cities_df = city_data_df.loc[(city_data_df[\"Max Temp\"] <= max_temp) & \\\n",
    "                                       (city_data_df[\"Max Temp\"] >= min_temp)]\n",
    "preferred_cities_df.head(10)"
   ]
  },
  {
   "cell_type": "code",
   "execution_count": 27,
   "metadata": {},
   "outputs": [
    {
     "data": {
      "text/plain": "City_ID       204\nCity          204\nCountry       204\nDate          204\nLat           204\nLng           204\nMax Temp      204\nHumidity      204\nCloudiness    204\nWind Speed    204\ndtype: int64"
     },
     "execution_count": 27,
     "metadata": {},
     "output_type": "execute_result"
    }
   ],
   "source": [
    "preferred_cities_df.count()"
   ]
  },
  {
   "cell_type": "code",
   "execution_count": 28,
   "metadata": {},
   "outputs": [
    {
     "data": {
      "text/plain": "              City Country  Max Temp      Lat       Lng Hotel Name\n0           Atuona      PF     78.67  -9.8000 -139.0333           \n1     Puerto Ayora      EC     76.64  -0.7393  -90.3518           \n5          Sechura      PE     75.07  -5.5569  -80.8222           \n7          Rikitea      PF     79.45 -23.1203 -134.9692           \n9   Port Elizabeth      ZA     73.09 -33.9180   25.5701           \n10   Mar Del Plata      AR     68.09 -38.0023  -57.5575           \n13      Bredasdorp      ZA     66.27 -34.5322   20.0403           \n15    San Patricio      US     73.38  28.0170  -97.5169           \n17            Mayo      US     73.35  38.8876  -76.5119           \n18  Saint-Philippe      RE     78.39 -21.3585   55.7679           ",
      "text/html": "<div>\n<style scoped>\n    .dataframe tbody tr th:only-of-type {\n        vertical-align: middle;\n    }\n\n    .dataframe tbody tr th {\n        vertical-align: top;\n    }\n\n    .dataframe thead th {\n        text-align: right;\n    }\n</style>\n<table border=\"1\" class=\"dataframe\">\n  <thead>\n    <tr style=\"text-align: right;\">\n      <th></th>\n      <th>City</th>\n      <th>Country</th>\n      <th>Max Temp</th>\n      <th>Lat</th>\n      <th>Lng</th>\n      <th>Hotel Name</th>\n    </tr>\n  </thead>\n  <tbody>\n    <tr>\n      <th>0</th>\n      <td>Atuona</td>\n      <td>PF</td>\n      <td>78.67</td>\n      <td>-9.8000</td>\n      <td>-139.0333</td>\n      <td></td>\n    </tr>\n    <tr>\n      <th>1</th>\n      <td>Puerto Ayora</td>\n      <td>EC</td>\n      <td>76.64</td>\n      <td>-0.7393</td>\n      <td>-90.3518</td>\n      <td></td>\n    </tr>\n    <tr>\n      <th>5</th>\n      <td>Sechura</td>\n      <td>PE</td>\n      <td>75.07</td>\n      <td>-5.5569</td>\n      <td>-80.8222</td>\n      <td></td>\n    </tr>\n    <tr>\n      <th>7</th>\n      <td>Rikitea</td>\n      <td>PF</td>\n      <td>79.45</td>\n      <td>-23.1203</td>\n      <td>-134.9692</td>\n      <td></td>\n    </tr>\n    <tr>\n      <th>9</th>\n      <td>Port Elizabeth</td>\n      <td>ZA</td>\n      <td>73.09</td>\n      <td>-33.9180</td>\n      <td>25.5701</td>\n      <td></td>\n    </tr>\n    <tr>\n      <th>10</th>\n      <td>Mar Del Plata</td>\n      <td>AR</td>\n      <td>68.09</td>\n      <td>-38.0023</td>\n      <td>-57.5575</td>\n      <td></td>\n    </tr>\n    <tr>\n      <th>13</th>\n      <td>Bredasdorp</td>\n      <td>ZA</td>\n      <td>66.27</td>\n      <td>-34.5322</td>\n      <td>20.0403</td>\n      <td></td>\n    </tr>\n    <tr>\n      <th>15</th>\n      <td>San Patricio</td>\n      <td>US</td>\n      <td>73.38</td>\n      <td>28.0170</td>\n      <td>-97.5169</td>\n      <td></td>\n    </tr>\n    <tr>\n      <th>17</th>\n      <td>Mayo</td>\n      <td>US</td>\n      <td>73.35</td>\n      <td>38.8876</td>\n      <td>-76.5119</td>\n      <td></td>\n    </tr>\n    <tr>\n      <th>18</th>\n      <td>Saint-Philippe</td>\n      <td>RE</td>\n      <td>78.39</td>\n      <td>-21.3585</td>\n      <td>55.7679</td>\n      <td></td>\n    </tr>\n  </tbody>\n</table>\n</div>"
     },
     "execution_count": 28,
     "metadata": {},
     "output_type": "execute_result"
    }
   ],
   "source": [
    "# Create DataFrame called hotel_df to store hotel names along with city, country, max temp, and coordinates.\n",
    "hotel_df = preferred_cities_df[[\"City\", \"Country\", \"Max Temp\", \"Lat\", \"Lng\"]].copy()\n",
    "hotel_df[\"Hotel Name\"] = \"\"\n",
    "hotel_df.head(10)"
   ]
  },
  {
   "cell_type": "code",
   "execution_count": 29,
   "metadata": {},
   "outputs": [
    {
     "name": "stdout",
     "output_type": "stream",
     "text": [
      "Found Hotel: Villa Enata\n",
      "Found Hotel: Finch Bay Galapagos Hotel\n",
      "Found Hotel: Hospedaje Costa Bella\n",
      "Found Hotel: People ThankYou\n",
      "Found Hotel: 39 On Nile Guest House\n",
      "Found Hotel: Gran Hotel Mar del Plata\n",
      "Found Hotel: Bredasdorp Country Manor\n",
      "Found Hotel: Motel 6 Sinton, TX\n",
      "Found Hotel: Resorts Resource Group International\n",
      "Found Hotel: Chambres d'hôte \"La Trinité\"\n",
      "Found Hotel: Sea Lounge! Bar, Club & Restaurant\n",
      "Found Hotel: Los encuentros\n",
      "Found Hotel: Hotel Sugam Lodging\n",
      "Found Hotel: Radisson Blu Hotel Waterfront, Cape Town\n",
      "Found Hotel: Misty Waves Boutique Hotel\n",
      "Found Hotel: Sun City Restaurant\n",
      "No hotel found...skipping.\n",
      "Found Hotel: Hotel Carioca\n",
      "Found Hotel: Quality Inn Near Joint Base Andrews-Washington Area\n",
      "Found Hotel: Case de Passage De la Prefecture\n",
      "Found Hotel: Tora Coastal Walk\n",
      "Found Hotel: Sheraton Kauai Coconut Beach Resort\n",
      "Found Hotel: Yas Hostel\n",
      "Found Hotel: Linwood Motel\n",
      "Found Hotel: Makkah Clock Royal Tower, A Fairmont Hotel\n",
      "Found Hotel: Atlantis Hotel\n",
      "No hotel found...skipping.\n",
      "Found Hotel: Nuevo Hotel Plaza\n",
      "Found Hotel: Shellharbour Resort & Conference Centre\n",
      "Found Hotel: Hotel San Juan\n",
      "Found Hotel: Riviera Royal Hotel\n",
      "Found Hotel: The Shingles Riverside Cottages\n",
      "Found Hotel: The Halyards Hotel\n",
      "No hotel found...skipping.\n",
      "Found Hotel: Hotel Xaguate\n",
      "Found Hotel: St Ives Hobart Accommodation Tasmania\n",
      "Found Hotel: Axim Beach Resort And Spa\n",
      "Found Hotel: Ramada by Wyndham Gatesville N. Fort Hood\n",
      "Found Hotel: Pirineos\n",
      "Found Hotel: Green Grass Hotel & Restaurant (Pvt) Ltd.\n",
      "Found Hotel: Auberge Angle Sur\n",
      "Found Hotel: Ahipara Holiday Park\n",
      "Found Hotel: Hotel El Recreo\n",
      "Found Hotel: Daru Lodge\n",
      "Found Hotel: Girls Hostel- Govt Debendra College\n",
      "Found Hotel: Thanda Vista B&B\n",
      "Found Hotel: Benin Metropole Hotel\n",
      "Found Hotel: Courtyard by Marriott Danbury\n",
      "Found Hotel: Casa Dora, Bubaque\n",
      "Found Hotel: Residencial Karime\n",
      "Found Hotel: residency of N.B vadhel\n",
      "Found Hotel: JM Lodge\n",
      "Found Hotel: Sibeko Resident\n",
      "Found Hotel: The Bungalow Sawtell\n",
      "Found Hotel: Hotel GSA\n",
      "No hotel found...skipping.\n",
      "Found Hotel: Paraiso Escondido\n",
      "Found Hotel: Tu Casa\n",
      "No hotel found...skipping.\n",
      "Found Hotel: Lamu House\n",
      "Found Hotel: Clarion Inn\n",
      "Found Hotel: Hilo Hawaiian Hotel\n",
      "Found Hotel: Hotel Arrarte\n",
      "Found Hotel: Hotel Kou-Bugny\n",
      "Found Hotel: 龙海钻石大酒店\n",
      "Found Hotel: Baghdad Hotel\n",
      "No hotel found...skipping.\n",
      "Found Hotel: Hotel Plaza Poncitlan\n",
      "Found Hotel: Hotel Cristal\n",
      "Found Hotel: Pousada Porto Praia\n",
      "Found Hotel: POUSADA TRAVÉS'CIA\n",
      "Found Hotel: InterContinental Riyadh, an IHG Hotel\n",
      "Found Hotel: Hotel Tesoro Los Cabos\n",
      "Found Hotel: Annexe Vatsy Hôtel\n",
      "Found Hotel: Nuba Nile\n",
      "Found Hotel: Sunset Inn\n",
      "Found Hotel: Pousada dos Navegantes\n",
      "Found Hotel: The Esplanade Resort & Spa\n",
      "No hotel found...skipping.\n",
      "Found Hotel: Hotel Kawissa Saurimo\n",
      "Found Hotel: Courtyard by Marriott Harlingen\n",
      "Found Hotel: INN CORNER RIVER - PRADO - BAHIA - HOUSING AND HOTEL\n",
      "Found Hotel: janelas do mar\n",
      "No hotel found...skipping.\n",
      "Found Hotel: Whispering Bamboo Cove Resort\n",
      "Found Hotel: Hotel Pekassa De Karche\n",
      "Found Hotel: Marriott's Ko Olina Beach Club\n",
      "Found Hotel: Bothabelo Bed and Breakfast\n",
      "Found Hotel: Nathaniel's Lodge\n",
      "Found Hotel: Rydges Port Macquarie\n",
      "Found Hotel: অধ্যক্ষ ইকবাল মোজাদ্দেদী সাহেব এর বাড়ি\n",
      "Found Hotel: Bushido Lodge\n",
      "Found Hotel: HOTEL TREAT RESIDENCY\n",
      "Found Hotel: Mini Hotel Central\n",
      "Found Hotel: Pousada Porto De Canoas\n",
      "Found Hotel: HOSTAL \"THE YELLOW HOUSE\"\n",
      "Found Hotel: BON Hotel Waterfront Richards Bay\n",
      "Found Hotel: The Commodore\n",
      "Found Hotel: Paradise Hotel\n",
      "Found Hotel: Pousada Tia Amélia\n",
      "Found Hotel: Samoma lodge\n",
      "Found Hotel: Quality Inn Calera I-65 Exit 231\n",
      "Found Hotel: Hotel Emperador Guapí\n",
      "Found Hotel: Hospitality Esperance\n",
      "Found Hotel: Paradise Bay Resort\n",
      "No hotel found...skipping.\n",
      "Found Hotel: Oyster Bay House Rental\n",
      "No hotel found...skipping.\n",
      "Found Hotel: Hosteria Sampedro\n",
      "Found Hotel: Hotel Posada San Jose\n",
      "Found Hotel: Cj's Travellers Inn\n",
      "Found Hotel: Orient Apartments\n",
      "Found Hotel: Hotel Castelo\n",
      "Found Hotel: Hotel Ponta Verde Maceió\n",
      "Found Hotel: Curubo Hotel\n",
      "No hotel found...skipping.\n",
      "Found Hotel: Hotel Mirage\n",
      "Found Hotel: Oceano\n",
      "Found Hotel: Hôtel Le Dronmi\n",
      "Found Hotel: Butterfly Beach Hotel\n",
      "No hotel found...skipping.\n",
      "Found Hotel: Novotel Dakar\n",
      "Found Hotel: INN NEW HORIZON\n",
      "Found Hotel: Euskadi Hotel\n",
      "Found Hotel: Hotel San Isidro Oficial\n",
      "Found Hotel: Holiday Inn Express Antofagasta, an IHG Hotel\n",
      "Found Hotel: Hotel Caribe\n",
      "Found Hotel: Six Acres Bed & Breakfast\n",
      "No hotel found...skipping.\n",
      "Found Hotel: Aldea del Bazar Hotel and Spa\n",
      "Found Hotel: Pousada Tropical\n",
      "No hotel found...skipping.\n",
      "Found Hotel: Hotel Villa Kitzia Huacho\n",
      "Found Hotel: Posada Lilia\n",
      "Found Hotel: Hotel Kamana\n",
      "Found Hotel: Gweta Lodge\n",
      "Found Hotel: hotêl doufoulougou\n",
      "Found Hotel: Blue Bay Lodge\n",
      "Found Hotel: Derogongan Residence\n",
      "Found Hotel: Four Points by Sheraton Melville Long Island\n",
      "Found Hotel: Fakhamat Al Orjoana Apartment\n",
      "Found Hotel: CHACARA BAILLY\n",
      "Found Hotel: Hotel Arena Blanca\n",
      "Found Hotel: Urbanizacion Casa Real\n",
      "Found Hotel: Xintiandi Business Hotel\n",
      "Found Hotel: فندق ميس إيجيبت Miss Egypt Hotel\n",
      "No hotel found...skipping.\n",
      "Found Hotel: Nussyba\n",
      "Found Hotel: Codrington Gardens Bed And Breakfast\n",
      "No hotel found...skipping.\n",
      "Found Hotel: Hotel Flamingo\n",
      "No hotel found...skipping.\n",
      "Found Hotel: Flat Temporada\n",
      "Found Hotel: hotel la terminal\n",
      "Found Hotel: Hotel Pousada Sollar - Martinópolis-SP\n",
      "Found Hotel: Blue Rock Resort\n",
      "Found Hotel: Lords Inn Somnath\n",
      "Found Hotel: Halane Hotel and Restaurent\n",
      "Found Hotel: Paviesh Park\n",
      "Found Hotel: Shiri shayam welding warks\n",
      "Found Hotel: Mövenpick Qassim\n",
      "Found Hotel: Praia Hotel Imbituba\n",
      "Found Hotel: Hotel Ravinala\n",
      "Found Hotel: 安琪酒店\n",
      "Found Hotel: Lorengau Harbourside Hotel\n",
      "Found Hotel: SEGAYA PROPERTY\n",
      "Found Hotel: Delano Hotel, Bahir Dar\n",
      "Found Hotel: Hampton Inn Memphis/Collierville\n",
      "Found Hotel: Villa Bella\n",
      "Found Hotel: Sandpiper Motel\n",
      "Found Hotel: Red Sea Hotel\n",
      "Found Hotel: OYO 1577 Hotel Shree Hari Grand\n",
      "Found Hotel: Havens Billiard Hall\n",
      "Found Hotel: Rancho das Pedras Hotel\n",
      "Found Hotel: Casa do Ian😎\n",
      "Found Hotel: Hotel Peace Land Ishigakijima\n",
      "Found Hotel: Chez Roger\n",
      "No hotel found...skipping.\n",
      "Found Hotel: Fuente del Guania Hotel de Lujo\n",
      "Found Hotel: Pousada Calu\n",
      "Found Hotel: Getúllio Hotel\n",
      "Found Hotel: \"Plantation Bed and Breakfast\n",
      "Found Hotel: Salinas Park Resort Maçarico AP101\n",
      "Found Hotel: HAMDAN PLAZA HOTEL SALALAH, an HTG Hotel\n",
      "Found Hotel: ENTERPRISE INN POLIFORUM\n",
      "Found Hotel: Lanchonete e Hotel Cortesia\n",
      "Found Hotel: Amerian Catamarca Park Hotel\n",
      "Found Hotel: Moon light Furnished Units\n",
      "Found Hotel: Dillon Express Inn\n",
      "Found Hotel: The Mills House Wyndham Grand Hotel\n",
      "Found Hotel: Hotel West\n",
      "Found Hotel: Hotel Panamericano\n",
      "Found Hotel: Hospedaje Paraíso\n",
      "Found Hotel: Caacupeii Jhugua Rey\n",
      "Found Hotel: JABIR HOTEL\n",
      "Found Hotel: Abaco Beach Resort\n",
      "Found Hotel: Centre Des Ressources DPENA\n",
      "Found Hotel: Zahid Bhai Home\n",
      "Found Hotel: Aritana\n",
      "Found Hotel: Hotel Piesta\n",
      "Found Hotel: 茂名中汇时尚酒店\n",
      "Found Hotel: LT Aparthotel\n",
      "Found Hotel: Screensaver\n",
      "No hotel found...skipping.\n"
     ]
    }
   ],
   "source": [
    "import requests\n",
    "\n",
    "gmap_nearbysearch_url = 'https://maps.googleapis.com/maps/api/place/nearbysearch/json'\n",
    "\n",
    "for i, j in hotel_df.iterrows():\n",
    "    \n",
    "    lat = j['Lat']\n",
    "    lng = j['Lng']\n",
    "    location = f\"{lat},{lng}\"\n",
    "    \n",
    "    # Set parameters to search for a hotel.\n",
    "    params = {\n",
    "        \"radius\": 5000,\n",
    "        \"type\": \"lodging\",\n",
    "        \"key\": g_key,\n",
    "        \"location\": location\n",
    "    }\n",
    "    \n",
    "    # Make request and get the JSON data\n",
    "    hotel_response = requests.get(gmap_nearbysearch_url, params=params).json()\n",
    "    \n",
    "    # Store name of first hotel in hotel DF\n",
    "    try:\n",
    "        hotel_df.loc[i, \"Hotel Name\"] = hotel_response[\"results\"][0][\"name\"]\n",
    "        print(\"Found Hotel: \" + hotel_response[\"results\"][0][\"name\"])\n",
    "    except (IndexError): \n",
    "        print(\"No hotel found...skipping.\")\n"
   ]
  },
  {
   "cell_type": "code",
   "execution_count": 30,
   "metadata": {},
   "outputs": [
    {
     "data": {
      "text/plain": "               City Country  Max Temp      Lat       Lng  \\\n0            Atuona      PF     78.67  -9.8000 -139.0333   \n1      Puerto Ayora      EC     76.64  -0.7393  -90.3518   \n5           Sechura      PE     75.07  -5.5569  -80.8222   \n7           Rikitea      PF     79.45 -23.1203 -134.9692   \n9    Port Elizabeth      ZA     73.09 -33.9180   25.5701   \n..              ...     ...       ...      ...       ...   \n579        Trinidad      BO     74.23 -14.8333  -64.9000   \n581        Dongzhen      CN     77.32  22.3797  110.9389   \n582           Praya      CV     68.54  14.9215  -23.5087   \n590          Harper      LR     79.36   4.3750   -7.7169   \n591          Beloha      MG     73.40 -25.1667   45.0500   \n\n                    Hotel Name  \n0                  Villa Enata  \n1    Finch Bay Galapagos Hotel  \n5        Hospedaje Costa Bella  \n7              People ThankYou  \n9       39 On Nile Guest House  \n..                         ...  \n579               Hotel Piesta  \n581                   茂名中汇时尚酒店  \n582              LT Aparthotel  \n590                Screensaver  \n591                             \n\n[204 rows x 6 columns]",
      "text/html": "<div>\n<style scoped>\n    .dataframe tbody tr th:only-of-type {\n        vertical-align: middle;\n    }\n\n    .dataframe tbody tr th {\n        vertical-align: top;\n    }\n\n    .dataframe thead th {\n        text-align: right;\n    }\n</style>\n<table border=\"1\" class=\"dataframe\">\n  <thead>\n    <tr style=\"text-align: right;\">\n      <th></th>\n      <th>City</th>\n      <th>Country</th>\n      <th>Max Temp</th>\n      <th>Lat</th>\n      <th>Lng</th>\n      <th>Hotel Name</th>\n    </tr>\n  </thead>\n  <tbody>\n    <tr>\n      <th>0</th>\n      <td>Atuona</td>\n      <td>PF</td>\n      <td>78.67</td>\n      <td>-9.8000</td>\n      <td>-139.0333</td>\n      <td>Villa Enata</td>\n    </tr>\n    <tr>\n      <th>1</th>\n      <td>Puerto Ayora</td>\n      <td>EC</td>\n      <td>76.64</td>\n      <td>-0.7393</td>\n      <td>-90.3518</td>\n      <td>Finch Bay Galapagos Hotel</td>\n    </tr>\n    <tr>\n      <th>5</th>\n      <td>Sechura</td>\n      <td>PE</td>\n      <td>75.07</td>\n      <td>-5.5569</td>\n      <td>-80.8222</td>\n      <td>Hospedaje Costa Bella</td>\n    </tr>\n    <tr>\n      <th>7</th>\n      <td>Rikitea</td>\n      <td>PF</td>\n      <td>79.45</td>\n      <td>-23.1203</td>\n      <td>-134.9692</td>\n      <td>People ThankYou</td>\n    </tr>\n    <tr>\n      <th>9</th>\n      <td>Port Elizabeth</td>\n      <td>ZA</td>\n      <td>73.09</td>\n      <td>-33.9180</td>\n      <td>25.5701</td>\n      <td>39 On Nile Guest House</td>\n    </tr>\n    <tr>\n      <th>...</th>\n      <td>...</td>\n      <td>...</td>\n      <td>...</td>\n      <td>...</td>\n      <td>...</td>\n      <td>...</td>\n    </tr>\n    <tr>\n      <th>579</th>\n      <td>Trinidad</td>\n      <td>BO</td>\n      <td>74.23</td>\n      <td>-14.8333</td>\n      <td>-64.9000</td>\n      <td>Hotel Piesta</td>\n    </tr>\n    <tr>\n      <th>581</th>\n      <td>Dongzhen</td>\n      <td>CN</td>\n      <td>77.32</td>\n      <td>22.3797</td>\n      <td>110.9389</td>\n      <td>茂名中汇时尚酒店</td>\n    </tr>\n    <tr>\n      <th>582</th>\n      <td>Praya</td>\n      <td>CV</td>\n      <td>68.54</td>\n      <td>14.9215</td>\n      <td>-23.5087</td>\n      <td>LT Aparthotel</td>\n    </tr>\n    <tr>\n      <th>590</th>\n      <td>Harper</td>\n      <td>LR</td>\n      <td>79.36</td>\n      <td>4.3750</td>\n      <td>-7.7169</td>\n      <td>Screensaver</td>\n    </tr>\n    <tr>\n      <th>591</th>\n      <td>Beloha</td>\n      <td>MG</td>\n      <td>73.40</td>\n      <td>-25.1667</td>\n      <td>45.0500</td>\n      <td></td>\n    </tr>\n  </tbody>\n</table>\n<p>204 rows × 6 columns</p>\n</div>"
     },
     "execution_count": 30,
     "metadata": {},
     "output_type": "execute_result"
    }
   ],
   "source": [
    "hotel_df"
   ]
  },
  {
   "cell_type": "code",
   "execution_count": 31,
   "metadata": {},
   "outputs": [
    {
     "data": {
      "text/plain": "Figure(layout=FigureLayout(height='420px'))",
      "application/vnd.jupyter.widget-view+json": {
       "version_major": 2,
       "version_minor": 0,
       "model_id": "af020e6d12844cbfa7e1ad41b05943cf"
      }
     },
     "metadata": {},
     "output_type": "display_data"
    }
   ],
   "source": [
    "# Add a heatmap of temperature for the vacation spots.\n",
    "locations = hotel_df[[\"Lat\", \"Lng\"]]\n",
    "max_temp = hotel_df[\"Max Temp\"]\n",
    "fig = gmaps.figure(center=(30.0, 31.0), zoom_level=1.5)\n",
    "heat_layer = gmaps.heatmap_layer(locations, weights=max_temp, dissipating=False,\n",
    "                                 max_intensity=300, point_radius=4)\n",
    "\n",
    "fig.add_layer(heat_layer)\n",
    "# Call the figure to plot the data.\n",
    "fig"
   ]
  },
  {
   "cell_type": "code",
   "execution_count": 32,
   "outputs": [
    {
     "data": {
      "text/plain": "Figure(layout=FigureLayout(height='420px'))",
      "application/vnd.jupyter.widget-view+json": {
       "version_major": 2,
       "version_minor": 0,
       "model_id": "e68902c7bd9543868ee98c8b68ddc8ef"
      }
     },
     "metadata": {},
     "output_type": "display_data"
    }
   ],
   "source": [
    "# Add a heatmap of temperature for the vacation spots and marker for each city.\n",
    "locations = hotel_df[[\"Lat\", \"Lng\"]]\n",
    "max_temp = hotel_df[\"Max Temp\"]\n",
    "fig = gmaps.figure(center=(30.0, 31.0), zoom_level=1.5)\n",
    "heat_layer = gmaps.heatmap_layer(locations, weights=max_temp,\n",
    "                                 dissipating=False, max_intensity=300, point_radius=4)\n",
    "marker_layer = gmaps.marker_layer(locations)\n",
    "fig.add_layer(heat_layer)\n",
    "fig.add_layer(marker_layer)\n",
    "# Call the figure to plot the data.\n",
    "fig"
   ],
   "metadata": {
    "collapsed": false,
    "pycharm": {
     "name": "#%%\n"
    }
   }
  },
  {
   "cell_type": "code",
   "execution_count": 34,
   "outputs": [],
   "source": [
    "info_box_template = \"\"\"\n",
    "<dl>\n",
    "<dt>Hotel Name</dt><dd>{Hotel Name}</dd>\n",
    "<dt>City</dt><dd>{City}</dd>\n",
    "<dt>Country</dt><dd>{Country}</dd>\n",
    "<dt>Max Temp</dt><dd>{Max Temp} °F</dd>\n",
    "</dl>\n",
    "\"\"\""
   ],
   "metadata": {
    "collapsed": false,
    "pycharm": {
     "name": "#%%\n"
    }
   }
  },
  {
   "cell_type": "code",
   "execution_count": 35,
   "outputs": [],
   "source": [
    "# Store the DataFrame Row.\n",
    "hotel_info = [info_box_template.format(**row) for index, row in hotel_df.iterrows()]"
   ],
   "metadata": {
    "collapsed": false,
    "pycharm": {
     "name": "#%%\n"
    }
   }
  },
  {
   "cell_type": "code",
   "execution_count": 36,
   "outputs": [
    {
     "data": {
      "text/plain": "Figure(layout=FigureLayout(height='420px'))",
      "application/vnd.jupyter.widget-view+json": {
       "version_major": 2,
       "version_minor": 0,
       "model_id": "cc9a8f71c43e4e60a866f56bfd8d4555"
      }
     },
     "metadata": {},
     "output_type": "display_data"
    }
   ],
   "source": [
    "# Add a heatmap of temperature for the vacation spots and a pop-up marker for each city.\n",
    "locations = hotel_df[[\"Lat\", \"Lng\"]]\n",
    "max_temp = hotel_df[\"Max Temp\"]\n",
    "fig = gmaps.figure(center=(30.0, 31.0), zoom_level=1.5)\n",
    "heat_layer = gmaps.heatmap_layer(locations, weights=max_temp,dissipating=False,\n",
    "                                 max_intensity=300, point_radius=4)\n",
    "marker_layer = gmaps.marker_layer(locations, info_box_content=hotel_info)\n",
    "fig.add_layer(heat_layer)\n",
    "fig.add_layer(marker_layer)\n",
    "\n",
    "# Call the figure to plot the data.\n",
    "fig"
   ],
   "metadata": {
    "collapsed": false,
    "pycharm": {
     "name": "#%%\n"
    }
   }
  },
  {
   "cell_type": "code",
   "execution_count": null,
   "outputs": [],
   "source": [],
   "metadata": {
    "collapsed": false,
    "pycharm": {
     "name": "#%%\n"
    }
   }
  }
 ],
 "metadata": {
  "kernelspec": {
   "display_name": "PythonData",
   "language": "python",
   "name": "pythondata"
  },
  "language_info": {
   "codemirror_mode": {
    "name": "ipython",
    "version": 3
   },
   "file_extension": ".py",
   "mimetype": "text/x-python",
   "name": "python",
   "nbconvert_exporter": "python",
   "pygments_lexer": "ipython3",
   "version": "3.9.7"
  }
 },
 "nbformat": 4,
 "nbformat_minor": 1
}